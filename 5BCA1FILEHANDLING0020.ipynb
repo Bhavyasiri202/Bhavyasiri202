{
  "nbformat": 4,
  "nbformat_minor": 0,
  "metadata": {
    "colab": {
      "provenance": [],
      "authorship_tag": "ABX9TyNwFDRQMIklf65/uZaOhzlR",
      "include_colab_link": true
    },
    "kernelspec": {
      "name": "python3",
      "display_name": "Python 3"
    },
    "language_info": {
      "name": "python"
    }
  },
  "cells": [
    {
      "cell_type": "markdown",
      "metadata": {
        "id": "view-in-github",
        "colab_type": "text"
      },
      "source": [
        "<a href=\"https://colab.research.google.com/github/Bhavyasiri202/Bhavyasiri202/blob/master/5BCA1FILEHANDLING0020.ipynb\" target=\"_parent\"><img src=\"https://colab.research.google.com/assets/colab-badge.svg\" alt=\"Open In Colab\"/></a>"
      ]
    },
    {
      "cell_type": "markdown",
      "source": [
        "***Opening a file***"
      ],
      "metadata": {
        "id": "dd-CJt7rkKPH"
      }
    },
    {
      "cell_type": "code",
      "execution_count": null,
      "metadata": {
        "id": "JTeZRRq1kGQ-"
      },
      "outputs": [],
      "source": [
        "F1 = open(\"/content/bhavya.txt\",\"r\")"
      ]
    },
    {
      "cell_type": "code",
      "source": [
        "def main():\n",
        "  obj1 = open(\"/content/bhavya1.txt\", \"w\")\n",
        "  obj1.write(\"Hello, How are you? \\n\")\n",
        "  obj1.write(\"Welcome to The File Handling. \\n\")\n",
        "  obj1.write(\"Enjoy the session. \\n\")\n",
        "main()"
      ],
      "metadata": {
        "id": "2oFPlXXWkQ3H"
      },
      "execution_count": null,
      "outputs": []
    },
    {
      "cell_type": "code",
      "source": [
        "fp1 = open(\"/content/bhavya1.txt\",\"w\")"
      ],
      "metadata": {
        "id": "kCugaeRukUv-"
      },
      "execution_count": null,
      "outputs": []
    },
    {
      "cell_type": "code",
      "source": [
        "fp1.close()"
      ],
      "metadata": {
        "id": "BgWYLLrqkVXN"
      },
      "execution_count": null,
      "outputs": []
    },
    {
      "cell_type": "markdown",
      "source": [
        "Write numbers from 1 to 20 to the output file WriteNumbers.txt"
      ],
      "metadata": {
        "id": "dypOlTbXkZZ1"
      }
    },
    {
      "cell_type": "code",
      "source": [
        "def main():\n",
        "  obj1 = open(\"/content/Writenumbers.txt\",\"w\")\n",
        "  for x in range(1,21):\n",
        "    x=str(x)\n",
        "    obj1.write(x)\n",
        "    obj1.write(\"\\n\")\n",
        "  obj1.close()\n",
        "\n",
        "main()"
      ],
      "metadata": {
        "id": "_vPW5jwWkcAN"
      },
      "execution_count": null,
      "outputs": []
    },
    {
      "cell_type": "markdown",
      "source": [
        "Generate 50 numbers within a range 500 to 1000 and write them to file WriteNumRandom.txt"
      ],
      "metadata": {
        "id": "BeYX3gwakec-"
      }
    },
    {
      "cell_type": "code",
      "source": [
        "from random import randint\n",
        "fp1 = open(\"/content/WriteNumRandom.txt\",\"w\")\n",
        "for x in range(51):\n",
        "  x = randint(500,1000)\n",
        "  x = str(x)\n",
        "  fp1.write(x + \" \")\n",
        "\n",
        "fp1.close()"
      ],
      "metadata": {
        "id": "UDtTgjqqkk1F"
      },
      "execution_count": null,
      "outputs": []
    },
    {
      "cell_type": "markdown",
      "source": [
        "Reading Text from a File"
      ],
      "metadata": {
        "id": "di-g1C6AkpNv"
      }
    },
    {
      "cell_type": "code",
      "source": [
        "fp = open(\"/content/bhavya.txt\",\"r\")\n",
        "text = fp.read()\n",
        "print(text)"
      ],
      "metadata": {
        "colab": {
          "base_uri": "https://localhost:8080/"
        },
        "id": "eGDSi6v9kqF1",
        "outputId": "7c7dba8e-cb47-416c-ec1f-9fb1555930dc"
      },
      "execution_count": null,
      "outputs": [
        {
          "output_type": "stream",
          "name": "stdout",
          "text": [
            "Hello Everyone!!!!!!!!\n"
          ]
        }
      ]
    },
    {
      "cell_type": "markdown",
      "source": [
        "Write a program to read the content of the file \"WriteNumbers.txt\""
      ],
      "metadata": {
        "id": "NC4xWWJwksh1"
      }
    },
    {
      "cell_type": "code",
      "source": [
        "fp1 = open(\"/content/Writenumbers.txt\",\"r\")\n",
        "num = fp1.read()\n",
        "print(num)\n",
        "print(type(num))"
      ],
      "metadata": {
        "colab": {
          "base_uri": "https://localhost:8080/"
        },
        "id": "gLk3u76tkvme",
        "outputId": "b9267df6-fde0-4de5-cd02-3e16063d3748"
      },
      "execution_count": null,
      "outputs": [
        {
          "output_type": "stream",
          "name": "stdout",
          "text": [
            "1\n",
            "2\n",
            "3\n",
            "4\n",
            "5\n",
            "6\n",
            "7\n",
            "8\n",
            "9\n",
            "10\n",
            "11\n",
            "12\n",
            "13\n",
            "14\n",
            "15\n",
            "16\n",
            "17\n",
            "18\n",
            "19\n",
            "20\n",
            "\n",
            "<class 'str'>\n"
          ]
        }
      ]
    },
    {
      "cell_type": "markdown",
      "source": [
        "Write a program to perform the following operation using seek() and basic file operations.\n",
        "\n",
        "\n",
        "Open file \"Weekdays.txt\" in write mode.\n",
        "Write weekdays from Monday to Friday in a file Weekdays.txt.\n",
        "Use seek() to read the content of the file.\n",
        "Set the pointer to the end of the file and append two remaining weekdays, i.e., Saturday and Sunday to the existing file Weekdays.txt.\n",
        "Read and print akk content of the file."
      ],
      "metadata": {
        "id": "lT0vxc1Skx_t"
      }
    },
    {
      "cell_type": "code",
      "source": [
        "fp1 = open(\"/content/Weekdays.txt\",\"w+\")\n",
        "fp1.write(\"Monday\\n\")\n",
        "fp1.write(\"Tuesday\\n\")\n",
        "fp1.write(\"Wednesday\\n\")\n",
        "fp1.write(\"Thursday\\n\")\n",
        "fp1.write(\"Friday\\n\")\n",
        "fp1.seek(0)\n",
        "t = fp1.read()\n",
        "print(t)"
      ],
      "metadata": {
        "colab": {
          "base_uri": "https://localhost:8080/"
        },
        "id": "r8eJsw7_k1oV",
        "outputId": "96499b7a-8881-49da-d840-118e4c05aaea"
      },
      "execution_count": null,
      "outputs": [
        {
          "output_type": "stream",
          "name": "stdout",
          "text": [
            "Monday\n",
            "Tuesday\n",
            "Wednesday\n",
            "Thursday\n",
            "Friday\n",
            "\n"
          ]
        }
      ]
    },
    {
      "cell_type": "code",
      "source": [
        "fp1.seek(0,2)\n",
        "fp1.write('Saturday\\n')\n",
        "fp1.write(\"Sunday\\n\")\n",
        "fp1.seek(0)\n",
        "t = fp1.read()\n",
        "print(t)"
      ],
      "metadata": {
        "colab": {
          "base_uri": "https://localhost:8080/"
        },
        "id": "-T5KU1iBk4Fl",
        "outputId": "7bebb123-ceeb-4c18-aad2-433541d6b42c"
      },
      "execution_count": null,
      "outputs": [
        {
          "output_type": "stream",
          "name": "stdout",
          "text": [
            "Monday\n",
            "Tuesday\n",
            "Wednesday\n",
            "Thursday\n",
            "Friday\n",
            "Saturday\n",
            "Sunday\n",
            "\n"
          ]
        }
      ]
    },
    {
      "cell_type": "markdown",
      "source": [
        "Exception Handling"
      ],
      "metadata": {
        "id": "O4pzUB0tk6SE"
      }
    },
    {
      "cell_type": "markdown",
      "source": [
        "TypeError"
      ],
      "metadata": {
        "id": "3MrKUQYLk989"
      }
    },
    {
      "cell_type": "code",
      "source": [
        "2+'3'"
      ],
      "metadata": {
        "colab": {
          "base_uri": "https://localhost:8080/",
          "height": 141
        },
        "id": "z1r3ghoklBHM",
        "outputId": "0dc330f6-7f54-4bdd-a13b-fd8b43304cc7"
      },
      "execution_count": 14,
      "outputs": [
        {
          "output_type": "error",
          "ename": "TypeError",
          "evalue": "unsupported operand type(s) for +: 'int' and 'str'",
          "traceback": [
            "\u001b[0;31m---------------------------------------------------------------------------\u001b[0m",
            "\u001b[0;31mTypeError\u001b[0m                                 Traceback (most recent call last)",
            "\u001b[0;32m<ipython-input-14-c24d39b239a5>\u001b[0m in \u001b[0;36m<cell line: 1>\u001b[0;34m()\u001b[0m\n\u001b[0;32m----> 1\u001b[0;31m \u001b[0;36m2\u001b[0m\u001b[0;34m+\u001b[0m\u001b[0;34m'3'\u001b[0m\u001b[0;34m\u001b[0m\u001b[0;34m\u001b[0m\u001b[0m\n\u001b[0m",
            "\u001b[0;31mTypeError\u001b[0m: unsupported operand type(s) for +: 'int' and 'str'"
          ]
        }
      ]
    },
    {
      "cell_type": "markdown",
      "source": [
        "NameError"
      ],
      "metadata": {
        "id": "vGGaExLzlDbE"
      }
    },
    {
      "cell_type": "code",
      "source": [
        "lssSt[0]"
      ],
      "metadata": {
        "colab": {
          "base_uri": "https://localhost:8080/",
          "height": 141
        },
        "id": "Miy7bPnJlHD1",
        "outputId": "8a1b3f4f-59ec-49e1-e006-46030efb6419"
      },
      "execution_count": 16,
      "outputs": [
        {
          "output_type": "error",
          "ename": "NameError",
          "evalue": "name 'lssSt' is not defined",
          "traceback": [
            "\u001b[0;31m---------------------------------------------------------------------------\u001b[0m",
            "\u001b[0;31mNameError\u001b[0m                                 Traceback (most recent call last)",
            "\u001b[0;32m<ipython-input-16-3260f12296c7>\u001b[0m in \u001b[0;36m<cell line: 1>\u001b[0;34m()\u001b[0m\n\u001b[0;32m----> 1\u001b[0;31m \u001b[0mlssSt\u001b[0m\u001b[0;34m[\u001b[0m\u001b[0;36m0\u001b[0m\u001b[0;34m]\u001b[0m\u001b[0;34m\u001b[0m\u001b[0;34m\u001b[0m\u001b[0m\n\u001b[0m",
            "\u001b[0;31mNameError\u001b[0m: name 'lssSt' is not defined"
          ]
        }
      ]
    },
    {
      "cell_type": "markdown",
      "source": [
        "ValueError:"
      ],
      "metadata": {
        "id": "Ceq5Hn29lJC1"
      }
    },
    {
      "cell_type": "code",
      "source": [
        "import math\n",
        "num = int(input('Enter a number: '))\n",
        "print('The factorial of {0} is {1}'.format(num,math.factorial(num)))"
      ],
      "metadata": {
        "id": "0bEQ-ivTlL3l",
        "colab": {
          "base_uri": "https://localhost:8080/",
          "height": 193
        },
        "outputId": "7f61f935-eb88-4a02-b8f1-5e7e0f76bf11"
      },
      "execution_count": 17,
      "outputs": [
        {
          "name": "stdout",
          "output_type": "stream",
          "text": [
            "Enter a number: -9\\\n"
          ]
        },
        {
          "output_type": "error",
          "ename": "ValueError",
          "evalue": "invalid literal for int() with base 10: '-9\\\\'",
          "traceback": [
            "\u001b[0;31m---------------------------------------------------------------------------\u001b[0m",
            "\u001b[0;31mValueError\u001b[0m                                Traceback (most recent call last)",
            "\u001b[0;32m<ipython-input-17-837ccad0f022>\u001b[0m in \u001b[0;36m<cell line: 2>\u001b[0;34m()\u001b[0m\n\u001b[1;32m      1\u001b[0m \u001b[0;32mimport\u001b[0m \u001b[0mmath\u001b[0m\u001b[0;34m\u001b[0m\u001b[0;34m\u001b[0m\u001b[0m\n\u001b[0;32m----> 2\u001b[0;31m \u001b[0mnum\u001b[0m \u001b[0;34m=\u001b[0m \u001b[0mint\u001b[0m\u001b[0;34m(\u001b[0m\u001b[0minput\u001b[0m\u001b[0;34m(\u001b[0m\u001b[0;34m'Enter a number: '\u001b[0m\u001b[0;34m)\u001b[0m\u001b[0;34m)\u001b[0m\u001b[0;34m\u001b[0m\u001b[0;34m\u001b[0m\u001b[0m\n\u001b[0m\u001b[1;32m      3\u001b[0m \u001b[0mprint\u001b[0m\u001b[0;34m(\u001b[0m\u001b[0;34m'The factorial of {0} is {1}'\u001b[0m\u001b[0;34m.\u001b[0m\u001b[0mformat\u001b[0m\u001b[0;34m(\u001b[0m\u001b[0mnum\u001b[0m\u001b[0;34m,\u001b[0m\u001b[0mmath\u001b[0m\u001b[0;34m.\u001b[0m\u001b[0mfactorial\u001b[0m\u001b[0;34m(\u001b[0m\u001b[0mnum\u001b[0m\u001b[0;34m)\u001b[0m\u001b[0;34m)\u001b[0m\u001b[0;34m)\u001b[0m\u001b[0;34m\u001b[0m\u001b[0;34m\u001b[0m\u001b[0m\n",
            "\u001b[0;31mValueError\u001b[0m: invalid literal for int() with base 10: '-9\\\\'"
          ]
        }
      ]
    },
    {
      "cell_type": "code",
      "source": [
        "import math\n",
        "num = int(input('Enter a number: '))\n",
        "try:\n",
        "  print('The factorial of {0} is {1}'.format(num,math.factorial(num)))\n",
        "except ValueError:\n",
        "  print('Cannot compute factorial for negative number')"
      ],
      "metadata": {
        "id": "z922SIW6lPHO",
        "colab": {
          "base_uri": "https://localhost:8080/"
        },
        "outputId": "c4538e61-9fa5-414f-bb19-ca912282579e"
      },
      "execution_count": 18,
      "outputs": [
        {
          "output_type": "stream",
          "name": "stdout",
          "text": [
            "Enter a number: -8\n",
            "Cannot compute factorial for negative number\n"
          ]
        }
      ]
    },
    {
      "cell_type": "markdown",
      "source": [
        "The program can be recovered from the exception as shown:"
      ],
      "metadata": {
        "id": "CLujRV2MlRi1"
      }
    },
    {
      "cell_type": "code",
      "source": [
        "import math\n",
        "\n",
        "num = int(input('Enter a number: '))\n",
        "valid_inp = False\n",
        "\n",
        "while not valid_inp:\n",
        "  try:\n",
        "    print('The factorial of {0} is {1}'.format(num,math.factorial(num)))\n",
        "    valid_inp = True\n",
        "\n",
        "  except ValueError:\n",
        "    print('Cannot compute factorial for negative number')\n",
        "    num = int(input('Please RE-ENTER '))"
      ],
      "metadata": {
        "id": "LCkKptvJlUmO",
        "colab": {
          "base_uri": "https://localhost:8080/"
        },
        "outputId": "21c0911a-b54f-49f1-e7b3-26c2fc5a9eab"
      },
      "execution_count": 19,
      "outputs": [
        {
          "output_type": "stream",
          "name": "stdout",
          "text": [
            "Enter a number: -9\n",
            "Cannot compute factorial for negative number\n",
            "Please RE-ENTER 9\n",
            "The factorial of 9 is 362880\n"
          ]
        }
      ]
    },
    {
      "cell_type": "markdown",
      "source": [
        "Handling Exception raised by User defined Functions"
      ],
      "metadata": {
        "id": "uXMq0dPClXcF"
      }
    },
    {
      "cell_type": "code",
      "source": [
        "def getMonth():\n",
        "  month = int(input('Enter a month (1-12)'))\n",
        "  if month < 1 or month > 12:\n",
        "    raise ValueError('Invalid Month Value')\n",
        "  return month\n",
        "\n",
        "m = getMonth()\n",
        "print(m)"
      ],
      "metadata": {
        "id": "ZN1lBQZala_W"
      },
      "execution_count": null,
      "outputs": []
    },
    {
      "cell_type": "markdown",
      "source": [
        "Python Socket"
      ],
      "metadata": {
        "id": "Ce7sEpgMldT2"
      }
    },
    {
      "cell_type": "code",
      "source": [
        "import socket\n",
        "import random\n",
        "import string\n",
        "\n",
        "server_object = socket.socket(family=socket.AF_INET, type=socket.SOCK_STREAM)\n",
        "\n",
        "\n",
        "ip_address = '127.0.0.1'\n",
        "port = 5555\n",
        "server_object.bind((ip_address, port))\n",
        "server_object.listen()\n",
        "\n",
        "\n",
        "connection_object, _ = server_object.accept()\n",
        "\n",
        "\n",
        "if connection_object:\n",
        "\n",
        "    print(\"SERVER CONNECTED TO CLIENT\")\n",
        "\n",
        "\n",
        "    connection_object.send(b\"type the message\")\n",
        "\n",
        "\n",
        "    data_receive = connection_object.recv(1024)\n",
        "\n",
        "    while data_receive != b'stop':\n",
        "        print(\"{}: {}\".format(\"CLIENT MESSAGE: \", data_receive.decode('utf-8')))\n",
        "        server_input = random.choice(string.ascii_letters)\n",
        "        connection_object.send(server_input.encode('utf-8'))\n",
        "        data_receive = connection_object.recv(1024)"
      ],
      "metadata": {
        "id": "CPvnMCt4lfU1"
      },
      "execution_count": null,
      "outputs": []
    },
    {
      "cell_type": "markdown",
      "source": [
        "Client\n",
        "\n"
      ],
      "metadata": {
        "id": "uJS75wX5liSl"
      }
    },
    {
      "cell_type": "code",
      "source": [
        "import socket\n",
        "\n",
        "\n",
        "client_object = socket.socket(family=socket.AF_INET, type=socket.SOCK_STREAM)\n",
        "\n",
        "\n",
        "ip_address = '127.0.0.1'\n",
        "port = 5555\n",
        "\n",
        "# Add a timeout for the connection attempt\n",
        "client_object.settimeout(5)  # Set a timeout of 5 seconds\n",
        "\n",
        "try:\n",
        "    # Make sure the server is running before attempting to connect\n",
        "    client_object.connect((ip_address,port))\n",
        "except socket.timeout:\n",
        "    print(\"Connection attempt timed out. Ensure the server is running.\")\n",
        "except ConnectionRefusedError:\n",
        "    print(\"Connection refused. Ensure the server is running on the correct address and port.\") # More specific error handling\n",
        "else:\n",
        "    data_receive = client_object.recv(1024)\n",
        "\n",
        "\n",
        "    if data_receive:\n",
        "\n",
        "        print(\"CLIENT CONNECTED TO SERVER\")\n",
        "        print(data_receive.decode('utf-8'))\n",
        "\n",
        "\n",
        "        while data_receive:\n",
        "\n",
        "            client_input = input().encode('utf-8')\n",
        "\n",
        "\n",
        "            client_object.send(client_input)\n",
        "\n",
        "            data_receive = client_object.recv(1024)\n",
        "            if data_receive:\n",
        "                print(\"{}: {}\".format(\"SERVER\",data_receive.decode('utf-8')))"
      ],
      "metadata": {
        "id": "vNdznKeYlkeO"
      },
      "execution_count": null,
      "outputs": []
    },
    {
      "cell_type": "markdown",
      "source": [
        "Making a GET request"
      ],
      "metadata": {
        "id": "QVD2RaB4ln4N"
      }
    },
    {
      "cell_type": "code",
      "source": [
        "import requests\n",
        "\n",
        "# The API endpoint\n",
        "url = \"https://jsonplaceholder.typicode.com/posts/1\"\n",
        "\n",
        "# A GET request to the API\n",
        "response = requests.get(url)\n",
        "\n",
        "# Print the response\n",
        "response_json = response.json()\n",
        "print(response_json)\n",
        "\n",
        "\"\"\"\n",
        "{'userId': 1, 'id': 1, 'title': 'sunt aut facere repellat provident occaecati excepturi optio reprehenderit', 'body': 'quia et suscipit\\nsuscipit recusandae consequuntur expedita et cum\\nreprehenderit molestiae ut ut quas totam\\nnostrum rerum est autem sunt rem eveniet architecto'}\n",
        "\"\"\""
      ],
      "metadata": {
        "id": "Csiw1lxclppt"
      },
      "execution_count": null,
      "outputs": []
    },
    {
      "cell_type": "markdown",
      "source": [
        "Making a POST request"
      ],
      "metadata": {
        "id": "E5Y8SGVrltA-"
      }
    },
    {
      "cell_type": "code",
      "source": [
        "# Define new data to create\n",
        "new_data = {\n",
        "    \"userID\": 1,\n",
        "    \"id\": 1,\n",
        "    \"title\": \"Making a POST request\",\n",
        "    \"body\": \"This is the data we created.\"\n",
        "}\n",
        "\n",
        "# The API endpoint to communicate with\n",
        "url_post = \"https://jsonplaceholder.typicode.com/posts\"\n",
        "\n",
        "# A POST request to tthe API\n",
        "post_response = requests.post(url_post, json=new_data)\n",
        "\n",
        "# Print the response\n",
        "post_response_json = post_response.json()\n",
        "print(post_response_json)\n",
        "\n",
        "\"\"\"\n",
        "{'userID': 1, 'id': 101, 'title': 'Making a POST request', 'body': 'This is the data we created.'}\n",
        "\"\"\""
      ],
      "metadata": {
        "id": "ChoHf5WtlvbO"
      },
      "execution_count": null,
      "outputs": []
    }
  ]
}