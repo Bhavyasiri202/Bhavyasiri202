{
  "nbformat": 4,
  "nbformat_minor": 0,
  "metadata": {
    "colab": {
      "provenance": [],
      "authorship_tag": "ABX9TyMi0yhE2fjjNZRzVFsTeuKd",
      "include_colab_link": true
    },
    "kernelspec": {
      "name": "python3",
      "display_name": "Python 3"
    },
    "language_info": {
      "name": "python"
    }
  },
  "cells": [
    {
      "cell_type": "markdown",
      "metadata": {
        "id": "view-in-github",
        "colab_type": "text"
      },
      "source": [
        "<a href=\"https://colab.research.google.com/github/Bhavyasiri202/Bhavyasiri202/blob/master/Python5BCA1.ipynb\" target=\"_parent\"><img src=\"https://colab.research.google.com/assets/colab-badge.svg\" alt=\"Open In Colab\"/></a>"
      ]
    },
    {
      "cell_type": "markdown",
      "source": [
        "Keywords are reserved words. There are 35 keywords present in python."
      ],
      "metadata": {
        "id": "SjWJ1tnRKUqi"
      }
    },
    {
      "cell_type": "code",
      "execution_count": 91,
      "metadata": {
        "colab": {
          "base_uri": "https://localhost:8080/"
        },
        "id": "z1B3BwDmInd5",
        "outputId": "d56b4258-e022-4812-9025-7fbc83fe1623"
      },
      "outputs": [
        {
          "output_type": "stream",
          "name": "stdout",
          "text": [
            "['False', 'None', 'True', 'and', 'as', 'assert', 'async', 'await', 'break', 'class', 'continue', 'def', 'del', 'elif', 'else', 'except', 'finally', 'for', 'from', 'global', 'if', 'import', 'in', 'is', 'lambda', 'nonlocal', 'not', 'or', 'pass', 'raise', 'return', 'try', 'while', 'with', 'yield']\n",
            "35\n"
          ]
        }
      ],
      "source": [
        "#code to print all the keywords present in python\n",
        "import keyword\n",
        "print(keyword.kwlist)\n",
        "a=len(keyword.kwlist)\n",
        "print(a)"
      ]
    },
    {
      "cell_type": "markdown",
      "source": [
        "Single line comment(specified using single or double quotes)."
      ],
      "metadata": {
        "id": "7fle2a2qKvHq"
      }
    },
    {
      "cell_type": "code",
      "source": [
        "#single line comment--->shows the single line comment.\n",
        "print('hello my dear friends')"
      ],
      "metadata": {
        "colab": {
          "base_uri": "https://localhost:8080/"
        },
        "id": "ujzEjHkcIyLD",
        "outputId": "2fd8ab16-892d-4bbc-9a48-39fea4a9186f"
      },
      "execution_count": 92,
      "outputs": [
        {
          "output_type": "stream",
          "name": "stdout",
          "text": [
            "hello my dear friends\n"
          ]
        }
      ]
    },
    {
      "cell_type": "markdown",
      "source": [
        "Multi line comment(specified using doc string)."
      ],
      "metadata": {
        "id": "wiDn-Yo0LO8J"
      }
    },
    {
      "cell_type": "code",
      "source": [
        "\"\"\"\n",
        "multi line comment\n",
        "how are you all\n",
        "have a nice day guys\n",
        "\"\"\"\n",
        "print('hello CSE people')"
      ],
      "metadata": {
        "colab": {
          "base_uri": "https://localhost:8080/"
        },
        "id": "XxBgdzJCJHA5",
        "outputId": "363d41c9-0f45-4dea-933f-15fc718c0628"
      },
      "execution_count": 93,
      "outputs": [
        {
          "output_type": "stream",
          "name": "stdout",
          "text": [
            "hello CSE people\n"
          ]
        }
      ]
    },
    {
      "cell_type": "markdown",
      "source": [
        "PYTHON DATATYPES\n",
        "\n",
        "Based on the data types the interpreter allocates the memory. Varaible can take any data type such as integer,float numbers,strings etc"
      ],
      "metadata": {
        "id": "hREmUeeeLZzx"
      }
    },
    {
      "cell_type": "code",
      "source": [
        "#here 3 variables have been created and stored the values as shown below\n",
        "a=50\n",
        "b=50\n",
        "c=a+b\n",
        "print(c)"
      ],
      "metadata": {
        "colab": {
          "base_uri": "https://localhost:8080/"
        },
        "id": "mixhu3CiJOAk",
        "outputId": "889bcf2e-f0e0-4483-c289-419a083000bd"
      },
      "execution_count": 94,
      "outputs": [
        {
          "output_type": "stream",
          "name": "stdout",
          "text": [
            "100\n"
          ]
        }
      ]
    },
    {
      "cell_type": "code",
      "source": [
        "#string datatype used as below\n",
        "x='hello'\n",
        "x"
      ],
      "metadata": {
        "colab": {
          "base_uri": "https://localhost:8080/",
          "height": 35
        },
        "id": "Jo-sAv0TJk3S",
        "outputId": "e106be2c-9f26-4367-908e-329df8f9d344"
      },
      "execution_count": 95,
      "outputs": [
        {
          "output_type": "execute_result",
          "data": {
            "text/plain": [
              "'hello'"
            ],
            "application/vnd.google.colaboratory.intrinsic+json": {
              "type": "string"
            }
          },
          "metadata": {},
          "execution_count": 95
        }
      ]
    },
    {
      "cell_type": "markdown",
      "source": [
        "PYTHON DATA STRUCTURES\n",
        "\n",
        "1.List 2.Tuple 3.Dictionary 4.Sets.\n",
        "\n",
        "1.LISTS IN PYTHON\n"
      ],
      "metadata": {
        "id": "CDp_URP-L8iK"
      }
    },
    {
      "cell_type": "code",
      "source": [
        "#Creating a list with constructor()\n",
        "a=([1,2,3,4,5])\n",
        "b=([2.4,7.0,6.8])\n",
        "c=(['hello','students'])\n",
        "print(a)\n",
        "print(b)\n",
        "print(c)"
      ],
      "metadata": {
        "colab": {
          "base_uri": "https://localhost:8080/"
        },
        "id": "-QvifGUjKNyC",
        "outputId": "403e5090-8451-4a9d-bac7-0ebee897fbb6"
      },
      "execution_count": 96,
      "outputs": [
        {
          "output_type": "stream",
          "name": "stdout",
          "text": [
            "[1, 2, 3, 4, 5]\n",
            "[2.4, 7.0, 6.8]\n",
            "['hello', 'students']\n"
          ]
        }
      ]
    },
    {
      "cell_type": "code",
      "source": [
        "type(a)"
      ],
      "metadata": {
        "colab": {
          "base_uri": "https://localhost:8080/"
        },
        "id": "2Mp9SXsKM4kL",
        "outputId": "fd9ea42c-e061-4553-d9d8-e9729567ad40"
      },
      "execution_count": 97,
      "outputs": [
        {
          "output_type": "execute_result",
          "data": {
            "text/plain": [
              "list"
            ]
          },
          "metadata": {},
          "execution_count": 97
        }
      ]
    },
    {
      "cell_type": "code",
      "source": [
        "#creating list with heterogenous data:\n",
        "a=(['hello',8,9,20.77])\n",
        "a"
      ],
      "metadata": {
        "colab": {
          "base_uri": "https://localhost:8080/"
        },
        "id": "RWMt3-CBM8Iz",
        "outputId": "b6224596-b889-4419-de45-1eabe0d0bc32"
      },
      "execution_count": 98,
      "outputs": [
        {
          "output_type": "execute_result",
          "data": {
            "text/plain": [
              "['hello', 8, 9, 20.77]"
            ]
          },
          "metadata": {},
          "execution_count": 98
        }
      ]
    },
    {
      "cell_type": "code",
      "source": [
        "#creating a list without constructor():\n",
        "days=['monday','tuesday','wednesday','thursday','friday','saturday','sunday']\n",
        "days"
      ],
      "metadata": {
        "colab": {
          "base_uri": "https://localhost:8080/"
        },
        "id": "LAIHp2F7NC4p",
        "outputId": "800d67e0-336c-44e6-b8e0-db78fd47bd60"
      },
      "execution_count": 99,
      "outputs": [
        {
          "output_type": "execute_result",
          "data": {
            "text/plain": [
              "['monday', 'tuesday', 'wednesday', 'thursday', 'friday', 'saturday', 'sunday']"
            ]
          },
          "metadata": {},
          "execution_count": 99
        }
      ]
    },
    {
      "cell_type": "code",
      "source": [
        "#accesing list items using index values:\n",
        "days[1]"
      ],
      "metadata": {
        "colab": {
          "base_uri": "https://localhost:8080/",
          "height": 35
        },
        "id": "28SqTxV7NGLU",
        "outputId": "16316e9a-4a11-4053-ee10-1f08295ca114"
      },
      "execution_count": 100,
      "outputs": [
        {
          "output_type": "execute_result",
          "data": {
            "text/plain": [
              "'tuesday'"
            ],
            "application/vnd.google.colaboratory.intrinsic+json": {
              "type": "string"
            }
          },
          "metadata": {},
          "execution_count": 100
        }
      ]
    },
    {
      "cell_type": "code",
      "source": [
        "#negative indexing:\n",
        "#creating a list without constructor():\n",
        "days=['monday','tuesday','wednesday','thursday','friday','saturday','sunday']\n",
        "days[-1]"
      ],
      "metadata": {
        "colab": {
          "base_uri": "https://localhost:8080/",
          "height": 35
        },
        "id": "4tCQr-1xNLUR",
        "outputId": "b198d424-5243-4005-eb84-d577c9423c5f"
      },
      "execution_count": 101,
      "outputs": [
        {
          "output_type": "execute_result",
          "data": {
            "text/plain": [
              "'sunday'"
            ],
            "application/vnd.google.colaboratory.intrinsic+json": {
              "type": "string"
            }
          },
          "metadata": {},
          "execution_count": 101
        }
      ]
    },
    {
      "cell_type": "code",
      "source": [
        "days[:]"
      ],
      "metadata": {
        "colab": {
          "base_uri": "https://localhost:8080/"
        },
        "id": "rLPZ3qfbNO8K",
        "outputId": "caa5e344-b1a7-4d4f-982f-f13579c70675"
      },
      "execution_count": 102,
      "outputs": [
        {
          "output_type": "execute_result",
          "data": {
            "text/plain": [
              "['monday', 'tuesday', 'wednesday', 'thursday', 'friday', 'saturday', 'sunday']"
            ]
          },
          "metadata": {},
          "execution_count": 102
        }
      ]
    },
    {
      "cell_type": "code",
      "source": [
        "#list slicing:\n",
        "days[1:4]"
      ],
      "metadata": {
        "colab": {
          "base_uri": "https://localhost:8080/"
        },
        "id": "qAXyiDpINSTA",
        "outputId": "66d7d0bf-5c09-477d-b26a-4652695e458d"
      },
      "execution_count": 103,
      "outputs": [
        {
          "output_type": "execute_result",
          "data": {
            "text/plain": [
              "['tuesday', 'wednesday', 'thursday']"
            ]
          },
          "metadata": {},
          "execution_count": 103
        }
      ]
    },
    {
      "cell_type": "code",
      "source": [
        "#list slicing with step size:\n",
        "days=['monday','tuesday','wednesday','thursday','friday','saturday','sunday']\n",
        "days[1:4:2]"
      ],
      "metadata": {
        "colab": {
          "base_uri": "https://localhost:8080/"
        },
        "id": "Q3fqjHmgNWBB",
        "outputId": "c2979d07-8c7c-43b2-fbbc-27526fe300f7"
      },
      "execution_count": 104,
      "outputs": [
        {
          "output_type": "execute_result",
          "data": {
            "text/plain": [
              "['tuesday', 'thursday']"
            ]
          },
          "metadata": {},
          "execution_count": 104
        }
      ]
    },
    {
      "cell_type": "markdown",
      "source": [
        "List built-in function\n",
        "\n",
        "len() Returns the number of elements in a list\n",
        "\n",
        "max() Returns element with greater value\n",
        "\n",
        "min() Returns the element with lowest value\n",
        "\n",
        "sum() Returns the sum of all elements in the list\n",
        "\n",
        "random.shuffle() Shuffle the elements in a list randomly"
      ],
      "metadata": {
        "id": "2D3V0OFaNnXi"
      }
    },
    {
      "cell_type": "code",
      "source": [
        "#example1:\n",
        "days=['monday','tuesday','wednesday','thursday','friday','saturday','sunday']\n",
        "len(days)"
      ],
      "metadata": {
        "colab": {
          "base_uri": "https://localhost:8080/"
        },
        "id": "8lgF5-5-NZbA",
        "outputId": "c56e5a44-fbcd-440e-bf41-0dc75eed2400"
      },
      "execution_count": 105,
      "outputs": [
        {
          "output_type": "execute_result",
          "data": {
            "text/plain": [
              "7"
            ]
          },
          "metadata": {},
          "execution_count": 105
        }
      ]
    },
    {
      "cell_type": "code",
      "source": [
        "numbers=[1,2,3,4,5,6,7,8]\n",
        "max(numbers)"
      ],
      "metadata": {
        "colab": {
          "base_uri": "https://localhost:8080/"
        },
        "id": "-mGarphoOv7y",
        "outputId": "2a89bdfe-254f-476c-84eb-8850a3b0c7ae"
      },
      "execution_count": 106,
      "outputs": [
        {
          "output_type": "execute_result",
          "data": {
            "text/plain": [
              "8"
            ]
          },
          "metadata": {},
          "execution_count": 106
        }
      ]
    },
    {
      "cell_type": "code",
      "source": [
        "numbers=[1,2,3,4,5,6,7,8]\n",
        "min(numbers)"
      ],
      "metadata": {
        "colab": {
          "base_uri": "https://localhost:8080/"
        },
        "id": "DgUfOHKgOwi5",
        "outputId": "a2c3e00d-07fb-4ab5-ea85-31e9eaebc347"
      },
      "execution_count": 107,
      "outputs": [
        {
          "output_type": "execute_result",
          "data": {
            "text/plain": [
              "1"
            ]
          },
          "metadata": {},
          "execution_count": 107
        }
      ]
    },
    {
      "cell_type": "code",
      "source": [
        "numbers=[1,2,3,4,5,6,7,8]\n",
        "sum(numbers)"
      ],
      "metadata": {
        "colab": {
          "base_uri": "https://localhost:8080/"
        },
        "id": "dkC6nnuFOwqa",
        "outputId": "8d2f29e8-ac47-43ff-fffc-1e92b4b281f2"
      },
      "execution_count": 108,
      "outputs": [
        {
          "output_type": "execute_result",
          "data": {
            "text/plain": [
              "36"
            ]
          },
          "metadata": {},
          "execution_count": 108
        }
      ]
    },
    {
      "cell_type": "code",
      "source": [
        "import random\n",
        "numbers=[1,2,3,4,5,6,7,8]\n",
        "random.shuffle(numbers)\n",
        "print(numbers)"
      ],
      "metadata": {
        "colab": {
          "base_uri": "https://localhost:8080/"
        },
        "id": "AzkIeTIjOwzK",
        "outputId": "13ce4afe-28e2-433a-f4b7-e5dc6ad510ea"
      },
      "execution_count": 109,
      "outputs": [
        {
          "output_type": "stream",
          "name": "stdout",
          "text": [
            "[6, 8, 2, 5, 4, 7, 1, 3]\n"
          ]
        }
      ]
    },
    {
      "cell_type": "markdown",
      "source": [
        "List Operators\n",
        "\n",
        "\"+\" Concatenates two lists with each other\n",
        "\n",
        "\"*\" Replicates the elements of lists\n",
        "\n",
        "\"in\" -Used to determine whether the element is present in the list or not\n",
        "\n",
        "-Returns true if the element is present in the list\n",
        "\n",
        "-Returns false if the element is not present.\n",
        "\n",
        "\"is\" Used to check whether two variables refer to the same object or not.\n",
        "\n",
        "\"del\" Used to remove elements from the list.\n",
        "\n"
      ],
      "metadata": {
        "id": "itFPSnD6P32i"
      }
    },
    {
      "cell_type": "code",
      "source": [
        "#examples on operator:\n",
        "a=[1,2,3]\n",
        "b=[4,5,6]\n",
        "c=a+b\n",
        "print(c)"
      ],
      "metadata": {
        "colab": {
          "base_uri": "https://localhost:8080/"
        },
        "id": "ll6C0K_TRPZy",
        "outputId": "f305f27b-d471-40a9-9b36-80a20c8a652f"
      },
      "execution_count": 110,
      "outputs": [
        {
          "output_type": "stream",
          "name": "stdout",
          "text": [
            "[1, 2, 3, 4, 5, 6]\n"
          ]
        }
      ]
    },
    {
      "cell_type": "code",
      "source": [
        "a=[10,20]\n",
        "b=3*a\n",
        "print(b)"
      ],
      "metadata": {
        "colab": {
          "base_uri": "https://localhost:8080/"
        },
        "id": "Wcr3O2MQPwRS",
        "outputId": "80b9c379-b243-4b3f-d6b5-5fc117abf495"
      },
      "execution_count": 111,
      "outputs": [
        {
          "output_type": "stream",
          "name": "stdout",
          "text": [
            "[10, 20, 10, 20, 10, 20]\n"
          ]
        }
      ]
    },
    {
      "cell_type": "code",
      "source": [
        "days=['monday','tuesday','wednesday','thursday','friday','saturday','sunday']\n",
        "'wednesday' in days"
      ],
      "metadata": {
        "colab": {
          "base_uri": "https://localhost:8080/"
        },
        "id": "l-Cy-CRKRaDQ",
        "outputId": "842cc8bd-e815-4133-85df-5012acd98e60"
      },
      "execution_count": 112,
      "outputs": [
        {
          "output_type": "execute_result",
          "data": {
            "text/plain": [
              "True"
            ]
          },
          "metadata": {},
          "execution_count": 112
        }
      ]
    },
    {
      "cell_type": "code",
      "source": [
        "days=['monday','tuesday','wednesday','thursday','friday','saturday','sunday']\n",
        "'wednesday' not in days\n"
      ],
      "metadata": {
        "colab": {
          "base_uri": "https://localhost:8080/"
        },
        "id": "G6u4NcuBRh0x",
        "outputId": "68c38111-8726-40c7-ed98-469a994d0dd6"
      },
      "execution_count": 113,
      "outputs": [
        {
          "output_type": "execute_result",
          "data": {
            "text/plain": [
              "False"
            ]
          },
          "metadata": {},
          "execution_count": 113
        }
      ]
    },
    {
      "cell_type": "code",
      "source": [
        "a='Arshiya'\n",
        "b='Arshiya'\n",
        "a is b"
      ],
      "metadata": {
        "colab": {
          "base_uri": "https://localhost:8080/"
        },
        "id": "FIVf0Qt5RiZr",
        "outputId": "32c8a747-9930-419a-aac7-4c98ca9ab3fd"
      },
      "execution_count": 114,
      "outputs": [
        {
          "output_type": "execute_result",
          "data": {
            "text/plain": [
              "True"
            ]
          },
          "metadata": {},
          "execution_count": 114
        }
      ]
    },
    {
      "cell_type": "code",
      "source": [
        "a='Arshiya'\n",
        "b='Lubna'\n",
        "a is b"
      ],
      "metadata": {
        "colab": {
          "base_uri": "https://localhost:8080/"
        },
        "id": "gEP0DQ-uRpXz",
        "outputId": "5f06b7a7-9abd-4481-9a14-b389d5a088be"
      },
      "execution_count": 115,
      "outputs": [
        {
          "output_type": "execute_result",
          "data": {
            "text/plain": [
              "False"
            ]
          },
          "metadata": {},
          "execution_count": 115
        }
      ]
    },
    {
      "cell_type": "code",
      "source": [
        "days=['monday','tuesday','wednesday','thursday','friday','saturday','sunday']\n",
        "del[days[1]]\n",
        "days"
      ],
      "metadata": {
        "colab": {
          "base_uri": "https://localhost:8080/"
        },
        "id": "X44hXdcSRtbA",
        "outputId": "77a7d812-5501-42cf-f9d7-1e911b9e13c5"
      },
      "execution_count": 116,
      "outputs": [
        {
          "output_type": "execute_result",
          "data": {
            "text/plain": [
              "['monday', 'wednesday', 'thursday', 'friday', 'saturday', 'sunday']"
            ]
          },
          "metadata": {},
          "execution_count": 116
        }
      ]
    },
    {
      "cell_type": "markdown",
      "source": [
        "List Methods\n",
        "\n",
        "append() Adds element at the end of the list\n",
        "\n",
        "clear() Clear the contents of the list\n",
        "\n",
        "count() Gives count of repeated items\n",
        "\n",
        "copy() Copy list from one list to another list\n",
        "\n",
        "extend() Joins the elements of 2 lists"
      ],
      "metadata": {
        "id": "QmattVKTRyqq"
      }
    },
    {
      "cell_type": "code",
      "source": [
        "a=['a','b','c','d']\n",
        "print(a)\n",
        "a.append('e')\n",
        "print(a)"
      ],
      "metadata": {
        "colab": {
          "base_uri": "https://localhost:8080/"
        },
        "id": "mqYFSPuCSTlw",
        "outputId": "343c8704-816a-46e8-fec1-89c8369cc3c3"
      },
      "execution_count": 117,
      "outputs": [
        {
          "output_type": "stream",
          "name": "stdout",
          "text": [
            "['a', 'b', 'c', 'd']\n",
            "['a', 'b', 'c', 'd', 'e']\n"
          ]
        }
      ]
    },
    {
      "cell_type": "code",
      "source": [
        "list=['red','orange','pink','black']\n",
        "print(list)\n",
        "list.clear()\n",
        "print(list)"
      ],
      "metadata": {
        "colab": {
          "base_uri": "https://localhost:8080/"
        },
        "id": "HsDz80EVSWyx",
        "outputId": "af186f0f-057b-44c6-bf48-ab9e5f7f2f15"
      },
      "execution_count": 118,
      "outputs": [
        {
          "output_type": "stream",
          "name": "stdout",
          "text": [
            "['red', 'orange', 'pink', 'black']\n",
            "[]\n"
          ]
        }
      ]
    },
    {
      "cell_type": "code",
      "source": [
        "nums=[1,2,3,4,1,4,1,7,8,1]\n",
        "print(nums)\n",
        "nums.count(1)"
      ],
      "metadata": {
        "colab": {
          "base_uri": "https://localhost:8080/"
        },
        "id": "l3LNWK8ISaWg",
        "outputId": "c750b25c-71dd-408e-f1f9-6702b080db01"
      },
      "execution_count": 119,
      "outputs": [
        {
          "output_type": "stream",
          "name": "stdout",
          "text": [
            "[1, 2, 3, 4, 1, 4, 1, 7, 8, 1]\n"
          ]
        },
        {
          "output_type": "execute_result",
          "data": {
            "text/plain": [
              "4"
            ]
          },
          "metadata": {},
          "execution_count": 119
        }
      ]
    },
    {
      "cell_type": "code",
      "source": [
        "list_1=[1,2,3,4]\n",
        "print(list_1)\n",
        "list_2=list_1.copy()\n",
        "print(list_2)"
      ],
      "metadata": {
        "colab": {
          "base_uri": "https://localhost:8080/"
        },
        "id": "znO4Nc54SdpQ",
        "outputId": "f26a5c4e-f9ee-4774-c499-f0ae686b2e6d"
      },
      "execution_count": 120,
      "outputs": [
        {
          "output_type": "stream",
          "name": "stdout",
          "text": [
            "[1, 2, 3, 4]\n",
            "[1, 2, 3, 4]\n"
          ]
        }
      ]
    },
    {
      "cell_type": "code",
      "source": [
        "A=[1,3,2,4,5]\n",
        "B=[5,6,7,3,6]\n",
        "print(A)\n",
        "print(B)\n",
        "A.extend(B)\n",
        "print(A)"
      ],
      "metadata": {
        "colab": {
          "base_uri": "https://localhost:8080/"
        },
        "id": "oqri5mBTShYg",
        "outputId": "2e2e2fd5-a0ab-46a1-d6d5-545e862cf9bb"
      },
      "execution_count": 121,
      "outputs": [
        {
          "output_type": "stream",
          "name": "stdout",
          "text": [
            "[1, 3, 2, 4, 5]\n",
            "[5, 6, 7, 3, 6]\n",
            "[1, 3, 2, 4, 5, 5, 6, 7, 3, 6]\n"
          ]
        }
      ]
    },
    {
      "cell_type": "markdown",
      "source": [
        "PYTHON TUPLES"
      ],
      "metadata": {
        "id": "YGXzV5MMSo0a"
      }
    },
    {
      "cell_type": "code",
      "source": [
        "#creating tuple with single element:\n",
        "a=(5,)\n",
        "print(a)\n",
        "print(type(a))"
      ],
      "metadata": {
        "colab": {
          "base_uri": "https://localhost:8080/"
        },
        "id": "FcQWQl11Ug2h",
        "outputId": "63e803a6-a4bc-480f-8e4b-b9eb06f95d1d"
      },
      "execution_count": 122,
      "outputs": [
        {
          "output_type": "stream",
          "name": "stdout",
          "text": [
            "(5,)\n",
            "<class 'tuple'>\n"
          ]
        }
      ]
    },
    {
      "cell_type": "code",
      "source": [
        "#creating tuple with integers\n",
        "a=(1,2,3,4,5)\n",
        "print(a)"
      ],
      "metadata": {
        "colab": {
          "base_uri": "https://localhost:8080/"
        },
        "id": "1J13zUaHUmq3",
        "outputId": "02903942-a679-4639-d6e5-ee21be5e4b0b"
      },
      "execution_count": 123,
      "outputs": [
        {
          "output_type": "stream",
          "name": "stdout",
          "text": [
            "(1, 2, 3, 4, 5)\n"
          ]
        }
      ]
    },
    {
      "cell_type": "code",
      "source": [
        "#creating tuple with float numbers\n",
        "b=(6.5,5.9,2.0)\n",
        "print(b)"
      ],
      "metadata": {
        "colab": {
          "base_uri": "https://localhost:8080/"
        },
        "id": "FAWAedqAUpu_",
        "outputId": "2fd0c821-325e-422d-9c2a-269e236f75f8"
      },
      "execution_count": 124,
      "outputs": [
        {
          "output_type": "stream",
          "name": "stdout",
          "text": [
            "(6.5, 5.9, 2.0)\n"
          ]
        }
      ]
    },
    {
      "cell_type": "code",
      "source": [
        "#creating tuple with strings\n",
        "c=('one','two','three')\n",
        "c"
      ],
      "metadata": {
        "colab": {
          "base_uri": "https://localhost:8080/"
        },
        "id": "8k6Jn_GPUsqH",
        "outputId": "fbdb091a-3e1f-44d7-8d7f-d6b24ffd06df"
      },
      "execution_count": 125,
      "outputs": [
        {
          "output_type": "execute_result",
          "data": {
            "text/plain": [
              "('one', 'two', 'three')"
            ]
          },
          "metadata": {},
          "execution_count": 125
        }
      ]
    },
    {
      "cell_type": "code",
      "source": [
        "#creating tuple multiple data types\n",
        "mix=('hello',708,66.8,1,2)\n",
        "mix"
      ],
      "metadata": {
        "colab": {
          "base_uri": "https://localhost:8080/"
        },
        "id": "PyS1EnbKUu-v",
        "outputId": "7c7dc6f8-ff21-4916-a0df-c7aad23c4559"
      },
      "execution_count": 126,
      "outputs": [
        {
          "output_type": "execute_result",
          "data": {
            "text/plain": [
              "('hello', 708, 66.8, 1, 2)"
            ]
          },
          "metadata": {},
          "execution_count": 126
        }
      ]
    },
    {
      "cell_type": "code",
      "source": [
        "#accessing items of tuple\n",
        "a=(1,2,3,4,'hello')\n",
        "print(a[4])"
      ],
      "metadata": {
        "colab": {
          "base_uri": "https://localhost:8080/"
        },
        "id": "jbQELynbUw7Y",
        "outputId": "6d6cd585-299c-4b2a-9387-04d9fd3112b3"
      },
      "execution_count": 127,
      "outputs": [
        {
          "output_type": "stream",
          "name": "stdout",
          "text": [
            "hello\n"
          ]
        }
      ]
    },
    {
      "cell_type": "markdown",
      "source": [
        "Tuple Methods\n",
        "\n",
        "count() Returns the number of times a specified value occurs in a tuple\n",
        "\n",
        "index() Searches the tuple for a specific value and returns the position of where it was found"
      ],
      "metadata": {
        "id": "wPxHQcz1U_Nh"
      }
    },
    {
      "cell_type": "markdown",
      "source": [
        "Python Dictionary"
      ],
      "metadata": {
        "id": "y_wQanUZVf5R"
      }
    },
    {
      "cell_type": "code",
      "source": [
        "#create a dictionary\n",
        "a={\n",
        "'name':'joy',\n",
        "'age':23,\n",
        "'education':'Engineer'\n",
        "}\n",
        "print(a)"
      ],
      "metadata": {
        "colab": {
          "base_uri": "https://localhost:8080/"
        },
        "id": "EY2Lo9daVkAx",
        "outputId": "6640fa46-cd06-46de-f1f6-e013f3433458"
      },
      "execution_count": 128,
      "outputs": [
        {
          "output_type": "stream",
          "name": "stdout",
          "text": [
            "{'name': 'joy', 'age': 23, 'education': 'Engineer'}\n"
          ]
        }
      ]
    },
    {
      "cell_type": "code",
      "source": [
        "len(a)"
      ],
      "metadata": {
        "colab": {
          "base_uri": "https://localhost:8080/"
        },
        "id": "cWRv8DszVkER",
        "outputId": "07e4f434-f6f9-40a6-b899-35f0b2ab6a1a"
      },
      "execution_count": 129,
      "outputs": [
        {
          "output_type": "execute_result",
          "data": {
            "text/plain": [
              "3"
            ]
          },
          "metadata": {},
          "execution_count": 129
        }
      ]
    },
    {
      "cell_type": "code",
      "source": [
        "type(a)"
      ],
      "metadata": {
        "colab": {
          "base_uri": "https://localhost:8080/"
        },
        "id": "aA6qp-VuVkLa",
        "outputId": "fd823256-1310-462c-deb2-fe9f745b1cf4"
      },
      "execution_count": 130,
      "outputs": [
        {
          "output_type": "execute_result",
          "data": {
            "text/plain": [
              "dict"
            ]
          },
          "metadata": {},
          "execution_count": 130
        }
      ]
    },
    {
      "cell_type": "code",
      "source": [
        "x=a.keys()\n",
        "x"
      ],
      "metadata": {
        "colab": {
          "base_uri": "https://localhost:8080/"
        },
        "id": "uVmHcH0MVkOx",
        "outputId": "fbd26e98-b5f0-4883-a53f-2d2d9aa8cd1c"
      },
      "execution_count": 131,
      "outputs": [
        {
          "output_type": "execute_result",
          "data": {
            "text/plain": [
              "dict_keys(['name', 'age', 'education'])"
            ]
          },
          "metadata": {},
          "execution_count": 131
        }
      ]
    },
    {
      "cell_type": "code",
      "source": [
        "y=a.values()\n",
        "y\n"
      ],
      "metadata": {
        "colab": {
          "base_uri": "https://localhost:8080/"
        },
        "id": "-QPUHrsAVkSR",
        "outputId": "12e03f5f-efba-4eb6-80a4-c6ca142e6c2e"
      },
      "execution_count": 132,
      "outputs": [
        {
          "output_type": "execute_result",
          "data": {
            "text/plain": [
              "dict_values(['joy', 23, 'Engineer'])"
            ]
          },
          "metadata": {},
          "execution_count": 132
        }
      ]
    },
    {
      "cell_type": "code",
      "source": [
        "z=a.items()\n",
        "z"
      ],
      "metadata": {
        "colab": {
          "base_uri": "https://localhost:8080/"
        },
        "id": "FFVlXtWlVkbh",
        "outputId": "12af4a09-4ede-4fb3-abae-3ed99b8ad182"
      },
      "execution_count": 133,
      "outputs": [
        {
          "output_type": "execute_result",
          "data": {
            "text/plain": [
              "dict_items([('name', 'joy'), ('age', 23), ('education', 'Engineer')])"
            ]
          },
          "metadata": {},
          "execution_count": 133
        }
      ]
    },
    {
      "cell_type": "markdown",
      "source": [
        "Python Sets"
      ],
      "metadata": {
        "id": "ajlkG6lLV-ko"
      }
    },
    {
      "cell_type": "code",
      "source": [
        "#Example:\n",
        "set1={1,2,3,4}\n",
        "print(set1)"
      ],
      "metadata": {
        "colab": {
          "base_uri": "https://localhost:8080/"
        },
        "id": "-kfhukhyWzd7",
        "outputId": "ce543d88-fa3d-4dc3-a7b6-ded797395236"
      },
      "execution_count": 134,
      "outputs": [
        {
          "output_type": "stream",
          "name": "stdout",
          "text": [
            "{1, 2, 3, 4}\n"
          ]
        }
      ]
    },
    {
      "cell_type": "code",
      "source": [
        "#3duplicates not allowed\n",
        "set={1,2,3,4,5,6,7,1,1}\n",
        "set\n"
      ],
      "metadata": {
        "colab": {
          "base_uri": "https://localhost:8080/"
        },
        "id": "A__YdN1pVkeh",
        "outputId": "d2afbd45-5dfb-47fc-dfc6-f075133e6e53"
      },
      "execution_count": 135,
      "outputs": [
        {
          "output_type": "execute_result",
          "data": {
            "text/plain": [
              "{1, 2, 3, 4, 5, 6, 7}"
            ]
          },
          "metadata": {},
          "execution_count": 135
        }
      ]
    },
    {
      "cell_type": "code",
      "source": [
        "len(set)"
      ],
      "metadata": {
        "colab": {
          "base_uri": "https://localhost:8080/"
        },
        "id": "lGV25JboW5ip",
        "outputId": "299110a4-65d9-4c2a-f9a3-d1f32619f606"
      },
      "execution_count": 136,
      "outputs": [
        {
          "output_type": "execute_result",
          "data": {
            "text/plain": [
              "7"
            ]
          },
          "metadata": {},
          "execution_count": 136
        }
      ]
    },
    {
      "cell_type": "code",
      "source": [
        "type(set)"
      ],
      "metadata": {
        "colab": {
          "base_uri": "https://localhost:8080/"
        },
        "id": "MkWTtH0dW5ox",
        "outputId": "90de434f-b3fa-4ce8-a551-49c2be2bbde3"
      },
      "execution_count": 137,
      "outputs": [
        {
          "output_type": "execute_result",
          "data": {
            "text/plain": [
              "set"
            ]
          },
          "metadata": {},
          "execution_count": 137
        }
      ]
    },
    {
      "cell_type": "markdown",
      "source": [
        "Python Operators\n",
        "\n",
        "1.Arthematic operators\n",
        "\n",
        "2.Comparison operators\n",
        "\n",
        "3.Logical operators\n",
        "\n",
        "4.Assignment operators\n",
        "\n",
        "5.Special operators\n",
        "\n",
        "a.Identity operators\n",
        "\n",
        "b.Membership operators\n"
      ],
      "metadata": {
        "id": "zk7qD4jDXLIj"
      }
    },
    {
      "cell_type": "markdown",
      "source": [
        "Arthematic operators"
      ],
      "metadata": {
        "id": "f9D6dtWOXvZZ"
      }
    },
    {
      "cell_type": "code",
      "source": [
        "a=5\n",
        "b=7\n",
        "print(a+b)"
      ],
      "metadata": {
        "colab": {
          "base_uri": "https://localhost:8080/"
        },
        "id": "tnEKV4OYXjFp",
        "outputId": "277ff7ce-32a9-4496-c520-7d1193eedd56"
      },
      "execution_count": 138,
      "outputs": [
        {
          "output_type": "stream",
          "name": "stdout",
          "text": [
            "12\n"
          ]
        }
      ]
    },
    {
      "cell_type": "code",
      "source": [
        "print(a-b)"
      ],
      "metadata": {
        "colab": {
          "base_uri": "https://localhost:8080/"
        },
        "id": "XDK9KAsXXz9C",
        "outputId": "314e17c9-6096-41b3-c93b-9fe4b03d8c67"
      },
      "execution_count": 139,
      "outputs": [
        {
          "output_type": "stream",
          "name": "stdout",
          "text": [
            "-2\n"
          ]
        }
      ]
    },
    {
      "cell_type": "code",
      "source": [
        "print(a*b)"
      ],
      "metadata": {
        "colab": {
          "base_uri": "https://localhost:8080/"
        },
        "id": "N644RgJwX4yC",
        "outputId": "29427a56-8455-40eb-c9df-3df9cb8e6b88"
      },
      "execution_count": 140,
      "outputs": [
        {
          "output_type": "stream",
          "name": "stdout",
          "text": [
            "35\n"
          ]
        }
      ]
    },
    {
      "cell_type": "code",
      "source": [
        "print(a/b)"
      ],
      "metadata": {
        "colab": {
          "base_uri": "https://localhost:8080/"
        },
        "id": "VNVK0nOWX44Z",
        "outputId": "adf54f20-0763-48d3-8f8d-9cd248a627b2"
      },
      "execution_count": 141,
      "outputs": [
        {
          "output_type": "stream",
          "name": "stdout",
          "text": [
            "0.7142857142857143\n"
          ]
        }
      ]
    },
    {
      "cell_type": "code",
      "source": [
        "print(a//b)"
      ],
      "metadata": {
        "colab": {
          "base_uri": "https://localhost:8080/"
        },
        "id": "NrDXnzB2X4_p",
        "outputId": "70e5464b-c2bf-4cdc-a3a8-446955f03f3e"
      },
      "execution_count": 142,
      "outputs": [
        {
          "output_type": "stream",
          "name": "stdout",
          "text": [
            "0\n"
          ]
        }
      ]
    },
    {
      "cell_type": "code",
      "source": [
        "print(a%b)"
      ],
      "metadata": {
        "colab": {
          "base_uri": "https://localhost:8080/"
        },
        "id": "sL0szogTX5Gr",
        "outputId": "dbf5af69-38fd-4589-9e3b-108aaf084fa0"
      },
      "execution_count": 143,
      "outputs": [
        {
          "output_type": "stream",
          "name": "stdout",
          "text": [
            "5\n"
          ]
        }
      ]
    },
    {
      "cell_type": "code",
      "source": [
        "print(a**b)"
      ],
      "metadata": {
        "colab": {
          "base_uri": "https://localhost:8080/"
        },
        "id": "fZoefuPVX5RJ",
        "outputId": "eb04b3d8-9545-4bce-f17f-555434e55568"
      },
      "execution_count": 144,
      "outputs": [
        {
          "output_type": "stream",
          "name": "stdout",
          "text": [
            "78125\n"
          ]
        }
      ]
    },
    {
      "cell_type": "markdown",
      "source": [
        "Comparison operators"
      ],
      "metadata": {
        "id": "Yfp824V8Yadp"
      }
    },
    {
      "cell_type": "code",
      "source": [
        "x = 5\n",
        "y = 3\n",
        "print(x == y)"
      ],
      "metadata": {
        "colab": {
          "base_uri": "https://localhost:8080/"
        },
        "id": "FfYqUwwhYd8K",
        "outputId": "d5e93999-6e74-4d1d-8f1b-ac354ceae923"
      },
      "execution_count": 145,
      "outputs": [
        {
          "output_type": "stream",
          "name": "stdout",
          "text": [
            "False\n"
          ]
        }
      ]
    },
    {
      "cell_type": "code",
      "source": [
        "x = 5\n",
        "y = 3\n",
        "print(x != y)"
      ],
      "metadata": {
        "colab": {
          "base_uri": "https://localhost:8080/"
        },
        "id": "wtoF4JPsaDHq",
        "outputId": "2126eefa-7340-4972-c9e8-59e7d2f23448"
      },
      "execution_count": 146,
      "outputs": [
        {
          "output_type": "stream",
          "name": "stdout",
          "text": [
            "True\n"
          ]
        }
      ]
    },
    {
      "cell_type": "code",
      "source": [
        "x = 5\n",
        "y = 3\n",
        "print(x > y)"
      ],
      "metadata": {
        "colab": {
          "base_uri": "https://localhost:8080/"
        },
        "id": "lVwIq1CPaE4J",
        "outputId": "60a92a4c-1459-44a9-eec3-48e5e741cee5"
      },
      "execution_count": 147,
      "outputs": [
        {
          "output_type": "stream",
          "name": "stdout",
          "text": [
            "True\n"
          ]
        }
      ]
    },
    {
      "cell_type": "code",
      "source": [
        "x = 5\n",
        "y = 3\n",
        "print(x < y)"
      ],
      "metadata": {
        "colab": {
          "base_uri": "https://localhost:8080/"
        },
        "id": "RjRd2iC1aIoQ",
        "outputId": "67280a50-3e42-4135-ee15-be17d0a2d22e"
      },
      "execution_count": 148,
      "outputs": [
        {
          "output_type": "stream",
          "name": "stdout",
          "text": [
            "False\n"
          ]
        }
      ]
    },
    {
      "cell_type": "code",
      "source": [
        "x = 5\n",
        "y = 3\n",
        "print(x < y)"
      ],
      "metadata": {
        "colab": {
          "base_uri": "https://localhost:8080/"
        },
        "id": "oE0MxdFOaNoa",
        "outputId": "d124d563-3efc-4ca3-b2eb-aafca2043bf5"
      },
      "execution_count": 149,
      "outputs": [
        {
          "output_type": "stream",
          "name": "stdout",
          "text": [
            "False\n"
          ]
        }
      ]
    },
    {
      "cell_type": "code",
      "source": [
        "x = 5\n",
        "y = 3\n",
        "print(x <= y)"
      ],
      "metadata": {
        "colab": {
          "base_uri": "https://localhost:8080/"
        },
        "id": "ZlMpuR1paSNI",
        "outputId": "264870a3-5fbe-4319-fd81-633ce6271487"
      },
      "execution_count": 150,
      "outputs": [
        {
          "output_type": "stream",
          "name": "stdout",
          "text": [
            "False\n"
          ]
        }
      ]
    },
    {
      "cell_type": "markdown",
      "source": [
        "Logical Operators"
      ],
      "metadata": {
        "id": "roTmCAGDfSb5"
      }
    },
    {
      "cell_type": "code",
      "source": [
        "x = 5\n",
        "print(x > 3 and x < 10)"
      ],
      "metadata": {
        "colab": {
          "base_uri": "https://localhost:8080/"
        },
        "id": "bMbxRoBUfRUK",
        "outputId": "2323b8d6-110c-474c-dd6a-8f037d3b03f5"
      },
      "execution_count": 151,
      "outputs": [
        {
          "output_type": "stream",
          "name": "stdout",
          "text": [
            "True\n"
          ]
        }
      ]
    },
    {
      "cell_type": "code",
      "source": [
        "x = 5\n",
        "print(x > 3 or x < 4)"
      ],
      "metadata": {
        "colab": {
          "base_uri": "https://localhost:8080/"
        },
        "id": "Js_bNcPxfWrv",
        "outputId": "bb05aa85-2f7f-416d-fefa-7c3b909a213a"
      },
      "execution_count": 152,
      "outputs": [
        {
          "output_type": "stream",
          "name": "stdout",
          "text": [
            "True\n"
          ]
        }
      ]
    },
    {
      "cell_type": "code",
      "source": [
        "x = 5\n",
        "print(not(x > 3 and x < 10))"
      ],
      "metadata": {
        "colab": {
          "base_uri": "https://localhost:8080/"
        },
        "id": "3CgGPSzRfZ8u",
        "outputId": "51e5edc4-40f0-4aed-d8bb-3d29de2948d1"
      },
      "execution_count": 153,
      "outputs": [
        {
          "output_type": "stream",
          "name": "stdout",
          "text": [
            "False\n"
          ]
        }
      ]
    },
    {
      "cell_type": "markdown",
      "source": [
        "Assignment Operators\n",
        "\n",
        "some assignment operators:"
      ],
      "metadata": {
        "id": "VvxLmep0fmso"
      }
    },
    {
      "cell_type": "code",
      "source": [
        "x = 5\n",
        "print(x)"
      ],
      "metadata": {
        "colab": {
          "base_uri": "https://localhost:8080/"
        },
        "id": "mbJ0yKTpfrFo",
        "outputId": "af543ef5-a377-45d6-f8a7-dd3c26c57a98"
      },
      "execution_count": 154,
      "outputs": [
        {
          "output_type": "stream",
          "name": "stdout",
          "text": [
            "5\n"
          ]
        }
      ]
    },
    {
      "cell_type": "code",
      "source": [
        "x=x+3\n",
        "print(x)"
      ],
      "metadata": {
        "colab": {
          "base_uri": "https://localhost:8080/"
        },
        "id": "H5LgNCTMfs52",
        "outputId": "d40e0193-c3ac-4f7e-b87d-8dfa7a18df26"
      },
      "execution_count": 155,
      "outputs": [
        {
          "output_type": "stream",
          "name": "stdout",
          "text": [
            "8\n"
          ]
        }
      ]
    },
    {
      "cell_type": "code",
      "source": [
        "x = 5\n",
        "x -= 3\n",
        "print(x)"
      ],
      "metadata": {
        "colab": {
          "base_uri": "https://localhost:8080/"
        },
        "id": "qrxiV2nrf45g",
        "outputId": "00ba74ad-fd69-4658-adb8-aee27976d3ad"
      },
      "execution_count": 156,
      "outputs": [
        {
          "output_type": "stream",
          "name": "stdout",
          "text": [
            "2\n"
          ]
        }
      ]
    },
    {
      "cell_type": "code",
      "source": [
        "x = 5\n",
        "x *= 3\n",
        "print(x)"
      ],
      "metadata": {
        "colab": {
          "base_uri": "https://localhost:8080/"
        },
        "id": "wj4Q2_8sf49J",
        "outputId": "fd04ef94-bd1d-4ae6-ffc6-2fa2a477e7ef"
      },
      "execution_count": 157,
      "outputs": [
        {
          "output_type": "stream",
          "name": "stdout",
          "text": [
            "15\n"
          ]
        }
      ]
    },
    {
      "cell_type": "markdown",
      "source": [
        "Python Functions"
      ],
      "metadata": {
        "id": "uUah5oRcgXRX"
      }
    },
    {
      "cell_type": "code",
      "source": [
        "def add():\n",
        "  a=2\n",
        "  b=3\n",
        "  sum=a+b\n",
        "  return sum\n",
        "add()\n",
        "print(add())"
      ],
      "metadata": {
        "colab": {
          "base_uri": "https://localhost:8080/"
        },
        "id": "5A38Z_Xof5Ao",
        "outputId": "faf54826-454a-43ca-9878-07afdfdcc76d"
      },
      "execution_count": 158,
      "outputs": [
        {
          "output_type": "stream",
          "name": "stdout",
          "text": [
            "5\n"
          ]
        }
      ]
    },
    {
      "cell_type": "code",
      "source": [
        "def collectdata():\n",
        "    \"\"\"Function to collect data.\"\"\"\n",
        "    print(\"Collecting data...\")\n",
        "def cleandata():\n",
        "    \"\"\"Function to clean data.\"\"\"\n",
        "    print(\"Cleaning data...\")\n",
        "def processdata():\n",
        "    \"\"\"Function to pre-process the data.\"\"\"\n",
        "    print(\"Processing data...\")\n",
        "def exploredata():\n",
        "    \"\"\"Function to explore data.\"\"\"\n",
        "    print(\"Exploring data...\")\n",
        "def visualization():\n",
        "    \"\"\"Function to visualize data.\"\"\"\n",
        "    print(\"Visualizing data...\")\n",
        "if __name__ == \"__main__\":\n",
        "    collectdata()\n",
        "    cleandata()\n",
        "    processdata()\n",
        "    exploredata()\n",
        "    visualization()\n"
      ],
      "metadata": {
        "colab": {
          "base_uri": "https://localhost:8080/"
        },
        "id": "wz2rpcSJgiWH",
        "outputId": "746d3bb9-21c4-47b1-b92b-1e7a8e899355"
      },
      "execution_count": 159,
      "outputs": [
        {
          "output_type": "stream",
          "name": "stdout",
          "text": [
            "Collecting data...\n",
            "Cleaning data...\n",
            "Processing data...\n",
            "Exploring data...\n",
            "Visualizing data...\n"
          ]
        }
      ]
    }
  ]
}