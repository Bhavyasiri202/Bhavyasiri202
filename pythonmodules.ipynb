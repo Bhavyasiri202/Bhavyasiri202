{
  "nbformat": 4,
  "nbformat_minor": 0,
  "metadata": {
    "colab": {
      "provenance": [],
      "authorship_tag": "ABX9TyPZPpUf12vYKs/8D4umw4QW",
      "include_colab_link": true
    },
    "kernelspec": {
      "name": "python3",
      "display_name": "Python 3"
    },
    "language_info": {
      "name": "python"
    }
  },
  "cells": [
    {
      "cell_type": "markdown",
      "metadata": {
        "id": "view-in-github",
        "colab_type": "text"
      },
      "source": [
        "<a href=\"https://colab.research.google.com/github/Bhavyasiri202/Bhavyasiri202/blob/master/pythonmodules.ipynb\" target=\"_parent\"><img src=\"https://colab.research.google.com/assets/colab-badge.svg\" alt=\"Open In Colab\"/></a>"
      ]
    },
    {
      "cell_type": "markdown",
      "source": [
        "OOPS in PYTHON"
      ],
      "metadata": {
        "id": "2ymI4wZoRfGg"
      }
    },
    {
      "cell_type": "code",
      "source": [
        "#Syntax\n",
        "class Dog:\n",
        "  def __init__(self, name, age):\n",
        "    self.name = name\n",
        "    self.age = age"
      ],
      "metadata": {
        "id": "mOffwZz_RkhY"
      },
      "execution_count": null,
      "outputs": []
    },
    {
      "cell_type": "code",
      "source": [
        "class Employee:\n",
        "    # class variables\n",
        "    company_name = 'ABC Company'\n",
        "    # constructor to initialize the object\n",
        "    def __init__(self, name, salary):\n",
        "        # instance variables\n",
        "        self.name = name\n",
        "        self.salary = salary\n",
        "    # instance method\n",
        "    def show(self):\n",
        "        print('Employee:', self.name, self.salary, self.company_name)\n",
        "# create first object\n",
        "emp1 = Employee(\"Harry\", 12000)\n",
        "emp1.show()\n",
        "# create second object\n",
        "emp2 = Employee(\"Emma\", 10000)\n",
        "emp2.show()\n"
      ],
      "metadata": {
        "colab": {
          "base_uri": "https://localhost:8080/"
        },
        "id": "h3-ENNEDR1Xg",
        "outputId": "2ec1a8db-590e-4f17-e5bd-728e6f8d64f5"
      },
      "execution_count": null,
      "outputs": [
        {
          "output_type": "stream",
          "name": "stdout",
          "text": [
            "Employee: Harry 12000 ABC Company\n",
            "Employee: Emma 10000 ABC Company\n"
          ]
        }
      ]
    },
    {
      "cell_type": "markdown",
      "source": [
        "Encaptulation"
      ],
      "metadata": {
        "id": "Kkfoq19_XUhR"
      }
    },
    {
      "cell_type": "code",
      "source": [
        "class Employee:\n",
        "    def __init__(self, name, salary):\n",
        "        # public member\n",
        "        self.name = name\n",
        "        # private member\n",
        "        self.__salary = salary\n",
        "\n",
        "    def show(self):\n",
        "        print(\"Name is \", self.name, \"and salary is\", self.__salary)\n",
        "\n",
        "emp = Employee(\"Jessa\", 40000)\n",
        "emp.show()\n",
        "\n",
        "# Trying to access __salary directly will raise an AttributeError\n",
        "print(emp.__salary)"
      ],
      "metadata": {
        "colab": {
          "base_uri": "https://localhost:8080/",
          "height": 193
        },
        "id": "Syve0tZbV3Nh",
        "outputId": "aafac7cc-b5b0-44c9-e426-030629379c73"
      },
      "execution_count": null,
      "outputs": [
        {
          "output_type": "stream",
          "name": "stdout",
          "text": [
            "Name is  Jessa and salary is 40000\n"
          ]
        },
        {
          "output_type": "error",
          "ename": "AttributeError",
          "evalue": "'Employee' object has no attribute '__salary'",
          "traceback": [
            "\u001b[0;31m---------------------------------------------------------------------------\u001b[0m",
            "\u001b[0;31mAttributeError\u001b[0m                            Traceback (most recent call last)",
            "\u001b[0;32m<ipython-input-22-c87540b8c179>\u001b[0m in \u001b[0;36m<cell line: 15>\u001b[0;34m()\u001b[0m\n\u001b[1;32m     13\u001b[0m \u001b[0;34m\u001b[0m\u001b[0m\n\u001b[1;32m     14\u001b[0m \u001b[0;31m# Trying to access __salary directly will raise an AttributeError\u001b[0m\u001b[0;34m\u001b[0m\u001b[0;34m\u001b[0m\u001b[0m\n\u001b[0;32m---> 15\u001b[0;31m \u001b[0mprint\u001b[0m\u001b[0;34m(\u001b[0m\u001b[0memp\u001b[0m\u001b[0;34m.\u001b[0m\u001b[0m__salary\u001b[0m\u001b[0;34m)\u001b[0m\u001b[0;34m\u001b[0m\u001b[0;34m\u001b[0m\u001b[0m\n\u001b[0m",
            "\u001b[0;31mAttributeError\u001b[0m: 'Employee' object has no attribute '__salary'"
          ]
        }
      ]
    },
    {
      "cell_type": "markdown",
      "source": [
        "In the above example, we create a class called Employee. Within that class, we declare two variables name and __salary. We can observe that the name variable is accessible, but __salary is the private variable. We cannot access it from outside of class. If we try to access it, we will get an error"
      ],
      "metadata": {
        "id": "F5TWy4VSXvsR"
      }
    },
    {
      "cell_type": "markdown",
      "source": [
        "Polymorphism"
      ],
      "metadata": {
        "id": "xJghOabiXxig"
      }
    },
    {
      "cell_type": "code",
      "source": [
        "class Circle:\n",
        "    pi = 3.14 #This line and the lines below need to be indented to be included in the class\n",
        "    def __init__(self, redius):\n",
        "        self.radius = redius\n",
        "    def calculate_area(self):\n",
        "        print(\"Area of circle :\", self.pi * self.radius * self.radius)\n",
        "class Rectangle:\n",
        "    def __init__(self, length, width):\n",
        "        self.length = length\n",
        "        self.width = width\n",
        "    def calculate_area(self):\n",
        "        print(\"Area of Rectangle :\", self.length * self.width)\n",
        "# function\n",
        "def area(shape):\n",
        "    # call action\n",
        "    shape.calculate_area()\n",
        "# create object\n",
        "cir = Circle(5)\n",
        "rect = Rectangle(10, 5)\n",
        "# call common function\n",
        "area(cir)\n",
        "area(rect)"
      ],
      "metadata": {
        "colab": {
          "base_uri": "https://localhost:8080/"
        },
        "id": "opjtttrNX8vv",
        "outputId": "ff377198-f903-4084-87d7-fdff30112380"
      },
      "execution_count": null,
      "outputs": [
        {
          "output_type": "stream",
          "name": "stdout",
          "text": [
            "Area of circle : 78.5\n",
            "Area of Rectangle : 50\n"
          ]
        }
      ]
    },
    {
      "cell_type": "markdown",
      "source": [
        "Inheritance In Python"
      ],
      "metadata": {
        "id": "wkBGuBzCaj_g"
      }
    },
    {
      "cell_type": "code",
      "source": [
        "# Base class\n",
        "class Vehicle:\n",
        "    def __init__(self, name, color, price): #This line and the lines below need to be indented to be included in the class\n",
        "        self.name = name\n",
        "        self.color = color\n",
        "        self.price = price\n",
        "    def info(self):\n",
        "        print(self.name, self.color, self.price)\n",
        "# Child class\n",
        "class Car(Vehicle):\n",
        "    def change_gear(self, no):\n",
        "        print(self.name, 'change gear to number', no)\n",
        "# Create object of Car\n",
        "car = Car('BMW X1', 'Black', 35000)\n",
        "car.info()\n",
        "car.change_gear(5)"
      ],
      "metadata": {
        "colab": {
          "base_uri": "https://localhost:8080/"
        },
        "id": "stHowPimaktX",
        "outputId": "130be2d2-4a41-4f7b-9169-67b8bbe43bad"
      },
      "execution_count": null,
      "outputs": [
        {
          "output_type": "stream",
          "name": "stdout",
          "text": [
            "BMW X1 Black 35000\n",
            "BMW X1 change gear to number 5\n"
          ]
        }
      ]
    },
    {
      "cell_type": "code",
      "source": [],
      "metadata": {
        "id": "7V0DB9VubtkI"
      },
      "execution_count": null,
      "outputs": []
    }
  ]
}